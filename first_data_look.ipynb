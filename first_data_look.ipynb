{
 "cells": [
  {
   "cell_type": "code",
   "execution_count": 19,
   "source": [
    "import pandas as pd\n",
    "from sodapy import Socrata\n",
    "import folium\n",
    "from folium.features import GeoJson\n",
    "import math\n",
    "\n",
    "from cross_arc_distance import cross_arc_distance\n",
    "\n",
    "import secrets"
   ],
   "outputs": [],
   "metadata": {}
  },
  {
   "cell_type": "code",
   "execution_count": 21,
   "source": [
    "## Initialize the client\n",
    "client = Socrata(\"www.data.act.gov.au\",\n",
    "            app_token=secrets.app_token,\n",
    "            username=secrets.username,\n",
    "            password=secrets.password)\n",
    "\n",
    "## You can initialize the client in \"severely rate-limited\" form with the following\n",
    "# client = Socrata(\"www.data.act.gov.au\", None)\n",
    "\n",
    "street_light_dataset = client.get(\"n9u5-bt96\", limit=100000)\n",
    "all_paths_dataset = client.get(\"ee7d-h7nm\", limit=100000)"
   ],
   "outputs": [],
   "metadata": {}
  },
  {
   "cell_type": "markdown",
   "source": [
    "# Paths & Lights Data"
   ],
   "metadata": {}
  },
  {
   "cell_type": "code",
   "execution_count": 80,
   "source": [
    "all_paths_df = pd.DataFrame.from_records(all_paths_dataset)\n",
    "bike_paths_df = all_paths_df[all_paths_df['path_type']=='CYCLEPATH']\n",
    "pedestrian_paths_df = all_paths_df[all_paths_df['path_type']=='FOOTPATH']\n",
    "\n",
    "street_light_df = pd.DataFrame.from_records(street_light_dataset)\n",
    "street_light_df['close_to_path'] = False"
   ],
   "outputs": [],
   "metadata": {}
  },
  {
   "cell_type": "code",
   "execution_count": 81,
   "source": [
    "cutoff = 5\n",
    "\n",
    "for _idx, bike_path_entry in bike_paths_df.iterrows():\n",
    "    point_pair_list = bike_path_entry['the_geom']['coordinates'][0]\n",
    "    for idx, _point_pair in enumerate(point_pair_list):\n",
    "        for light_idx, street_light_entry in street_light_df.iterrows():\n",
    "\n",
    "            if street_light_df.loc[light_idx, 'close_to_path']:\n",
    "                continue\n",
    "\n",
    "            if idx > 0:\n",
    "                current_point = point_pair_list[idx]\n",
    "                previous_point = point_pair_list[idx-1]\n",
    "\n",
    "                ## Point A, radians\n",
    "                previous_point_lat = float(previous_point[1]) * math.pi/180\n",
    "                previous_point_long = float(current_point[0]) * math.pi/180\n",
    "                \n",
    "                ## Point B, radians\n",
    "                current_point_lat = float(current_point[1]) * math.pi/180\n",
    "                current_point_long = float(current_point[0]) * math.pi/180\n",
    "\n",
    "                ## Point C, radians\n",
    "                light_latitude = float(street_light_entry['location']['latitude']) * math.pi/180\n",
    "                light_longitude = float(street_light_entry['location']['longitude']) * math.pi/180\n",
    "\n",
    "                nearest_distance_path_to_light = cross_arc_distance(\n",
    "                        previous_point_lat, previous_point_long,\n",
    "                        current_point_lat, current_point_long,\n",
    "                        light_latitude, light_longitude\n",
    "                        )\n",
    "\n",
    "                if nearest_distance_path_to_light < cutoff:\n",
    "                    ## Set light dataframe near_to_path to True and break\n",
    "                    street_light_df.loc[light_idx, 'close_to_path'] = True\n"
   ],
   "outputs": [],
   "metadata": {}
  },
  {
   "cell_type": "code",
   "execution_count": null,
   "source": [
    "street_light_close_to_path_df = street_light_df[street_light_df['close_to_path']==True]"
   ],
   "outputs": [],
   "metadata": {}
  },
  {
   "cell_type": "code",
   "execution_count": null,
   "source": [
    "## coordinates from Canberra wiki\n",
    "initial_lat = -35.473469\n",
    "initial_lng = 149.012375\n",
    "\n",
    "# Load map centred on average coordinates\n",
    "my_map = folium.Map(location=[initial_lat, initial_lng], zoom_start=10, tiles=\"cartodbpositron\")\n",
    "\n",
    "## Style definitions\n",
    "bike_path_style = {'color': '#228B22', 'fillOpacity': 0.5}\n",
    "\n",
    "for _idx, bike_path_entry in bike_paths_df.iterrows():\n",
    "    GeoJson(\n",
    "        data = bike_path_entry['the_geom'],\n",
    "        name = 'bike_path',\n",
    "        style_function = lambda x : bike_path_style\n",
    "    ).add_to(my_map)\n",
    "\n",
    "for _idx, street_light_entry in street_light_close_to_path_df.iterrows():\n",
    "    folium.CircleMarker(\n",
    "        location = [float(street_light_entry['location']['latitude']), float(street_light_entry['location']['longitude'])],\n",
    "        radius = 1, ##0.2\n",
    "        color = \"red\", \n",
    "        fill = True,\n",
    "        fill_color = \"red\",\n",
    "        fill_opacity = 0.7\n",
    "    ).add_to(my_map)\n",
    "\n",
    "my_map"
   ],
   "outputs": [],
   "metadata": {}
  },
  {
   "cell_type": "code",
   "execution_count": null,
   "source": [],
   "outputs": [],
   "metadata": {}
  }
 ],
 "metadata": {
  "orig_nbformat": 4,
  "language_info": {
   "name": "python",
   "version": "3.9.7",
   "mimetype": "text/x-python",
   "codemirror_mode": {
    "name": "ipython",
    "version": 3
   },
   "pygments_lexer": "ipython3",
   "nbconvert_exporter": "python",
   "file_extension": ".py"
  },
  "kernelspec": {
   "name": "python3",
   "display_name": "Python 3.9.7 64-bit"
  },
  "interpreter": {
   "hash": "aee8b7b246df8f9039afb4144a1f6fd8d2ca17a180786b69acc140d282b71a49"
  }
 },
 "nbformat": 4,
 "nbformat_minor": 2
}