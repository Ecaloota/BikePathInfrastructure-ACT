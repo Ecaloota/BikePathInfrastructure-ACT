{
 "cells": [
  {
   "cell_type": "code",
   "execution_count": 4,
   "source": [
    "import pandas as pd\n",
    "from sodapy import Socrata\n",
    "import folium\n",
    "\n",
    "import secrets"
   ],
   "outputs": [],
   "metadata": {}
  },
  {
   "cell_type": "code",
   "execution_count": 5,
   "source": [
    "## Initialize the client\n",
    "client = Socrata(\"www.data.act.gov.au\",\n",
    "            app_token=secrets.app_token,\n",
    "            username=secrets.username,\n",
    "            password=secrets.password)\n",
    "\n",
    "## You can initialize the client in \"severely rate-limited\" form with the following\n",
    "# client = Socrata(\"www.data.act.gov.au\", None)\n",
    "\n",
    "street_light_dataset = client.get(\"n9u5-bt96\", limit=100000)\n",
    "all_paths_dataset = client.get(\"ee7d-h7nm\", limit=100000)"
   ],
   "outputs": [],
   "metadata": {}
  },
  {
   "cell_type": "markdown",
   "source": [
    "# Path Data"
   ],
   "metadata": {}
  },
  {
   "cell_type": "code",
   "execution_count": 6,
   "source": [
    "## Important quantities may be:\n",
    "    ## CYCLEPATH or FOOTPATH\n",
    "    ## Coordinates of each path\n",
    "    ## Is path (segments of points) illuminated? boolean (may require interpolation?...)\n",
    "\n",
    "## Boilerplate\n",
    "def reverse_coordinates_list_of_lists(coordinate_list: list) -> list:\n",
    "    return [[x[1], x[0]] for x in coordinate_list[0]]\n",
    "\n",
    "\n",
    "all_paths_df = pd.DataFrame.from_records(all_paths_dataset)\n",
    "\n",
    "## split out the GeoJSON dictionary into separate dataframe columns\n",
    "## and concat the result back into the original dataframe\n",
    "all_paths_df = pd.concat([all_paths_df.drop(['the_geom'], axis=1), all_paths_df['the_geom'].apply(pd.Series)], axis=1)\n",
    "\n",
    "## reverse the coordinate format from [long, lat] to [lat, long]\n",
    "reversed_path_coords = all_paths_df.apply(lambda x: reverse_coordinates_list_of_lists(x['coordinates']), axis=1).rename(\"reversed_coordinates\").to_frame()\n",
    "\n",
    "## replace old coordinate format with replaced, and clean up\n",
    "all_paths_df = all_paths_df.drop(['coordinates'], axis=1)\n",
    "all_paths_df = all_paths_df.merge(reversed_path_coords, how='inner', left_index=True, right_index=True)\n",
    "all_paths_df = all_paths_df.rename(columns = {'reversed_coordinates':'coordinates'})\n",
    "\n",
    "## Extract the CYCLEPATH entries (we could also do this at render-time?)\n",
    "bike_paths_df = all_paths_df[all_paths_df['path_type']=='CYCLEPATH']\n",
    "pedestrian_paths_df = all_paths_df[all_paths_df['path_type']=='FOOTPATH']\n"
   ],
   "outputs": [],
   "metadata": {}
  },
  {
   "cell_type": "markdown",
   "source": [
    "# Street Light Data"
   ],
   "metadata": {}
  },
  {
   "cell_type": "code",
   "execution_count": 188,
   "source": [
    "## For our first pass, we're going to make the shaky assumption that each lamp,\n",
    "## irrespective of model, height, lamp_count, arm_length etc. will produce a\n",
    "## uniform circle of 'acceptably-bright' light with radius X metres.\n",
    "\n",
    "street_light_df = pd.DataFrame.from_records(street_light_dataset)\n",
    "street_light_df = pd.concat([street_light_df.drop(['location'], axis=1), street_light_df['location'].apply(pd.Series)], axis=1)\n",
    "\n",
    "street_light_location_list = []\n",
    "for index, rows in street_light_df.iterrows():\n",
    "    location = [float(rows.latitude), float(rows.longitude)]\n",
    "    street_light_location_list.append(location)"
   ],
   "outputs": [],
   "metadata": {}
  },
  {
   "cell_type": "markdown",
   "source": [
    "# Mapping"
   ],
   "metadata": {}
  },
  {
   "cell_type": "code",
   "execution_count": 191,
   "source": [
    "## coordinates from Canberra wiki\n",
    "initial_lat = -35.473469\n",
    "initial_lng = 149.012375\n",
    "\n",
    "# Load map centred on average coordinates\n",
    "my_map = folium.Map(location=[initial_lat, initial_lng], zoom_start=10)\n",
    " \n",
    "for coordinate_set in bike_paths_df['coordinates']:\n",
    "    folium.PolyLine(coordinate_set, color=\"blue\", weight=2.5, opacity=1).add_to(my_map)\n",
    "\n",
    "#for coordinate_set in pedestrian_paths_df['coordinates']:\n",
    "#    folium.PolyLine(coordinate_set, color=\"red\", weight=2.5, opacity=1).add_to(my_map)\n",
    "       \n",
    "for street_light_location in street_light_location_list:\n",
    "    folium.CircleMarker(street_light_location, radius=0.2,color=\"yellow\", fill=True,fill_color=\"yellow\",fill_opacity=0.7).add_to(my_map)\n",
    "\n",
    "## Uncomment for pretty map\n",
    "#my_map"
   ],
   "outputs": [],
   "metadata": {}
  },
  {
   "cell_type": "code",
   "execution_count": null,
   "source": [
    "# cutoff = 5 ## arbitrary for now\n",
    "# light.close_to_bike_path = False\n",
    "\n",
    "# for path_segment in bike_path_list:\n",
    "#       for light in lights_list:\n",
    "\n",
    "#         if !light.close_to_bike_path:\n",
    "            \n",
    "#             P1 = path_segment[0] ## this is just a pair list of lat, long\n",
    "#             P2 = path_segment[1] ## ditto\n",
    "\n",
    "#             left_distance = math.sqrt((P1.latitude - light.latitude)**2 + (P1.longitude - light.longitude)**2)\n",
    "#             if left_distance < cutoff:\n",
    "#               light.close_to_bike_path = True\n",
    "#               break\n",
    "\n",
    "#             right_distance = math.sqrt((P2.latitude - light.latitude)**2 + (P2.longitude - light.longitude)**2)\n",
    "#             if right_distance < cutoff:\n",
    "#               light.close_to_bike_path = True\n",
    "#               break\n",
    "\n",
    "#             perp_distance = abs((P2.latitude - P1.latitude)*(P1.longitude - light.longitude) - (P1.latitude - light.latitude)*(P2.longitude - P1.longitude)) / math.sqrt((P2.latitude - P1.latitude)**2 + (P2.longitude - P1.longitude)**2)\n",
    "#             if perp_distance < cutoff:\n",
    "#               light.close_to_bike_path = True\n",
    "#               break"
   ],
   "outputs": [],
   "metadata": {}
  }
 ],
 "metadata": {
  "orig_nbformat": 4,
  "language_info": {
   "name": "python",
   "version": "3.9.7",
   "mimetype": "text/x-python",
   "codemirror_mode": {
    "name": "ipython",
    "version": 3
   },
   "pygments_lexer": "ipython3",
   "nbconvert_exporter": "python",
   "file_extension": ".py"
  },
  "kernelspec": {
   "name": "python3",
   "display_name": "Python 3.9.7 64-bit"
  },
  "interpreter": {
   "hash": "aee8b7b246df8f9039afb4144a1f6fd8d2ca17a180786b69acc140d282b71a49"
  }
 },
 "nbformat": 4,
 "nbformat_minor": 2
}